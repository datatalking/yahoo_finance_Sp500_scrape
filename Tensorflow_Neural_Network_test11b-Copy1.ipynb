{
 "cells": [
  {
   "cell_type": "code",
   "execution_count": null,
   "metadata": {},
   "outputs": [],
   "source": [
    "# go throug this https://colab.research.google.com/notebooks/intro.ipynb?utm_source=scs-index\n",
    "!pip install TFANN\n",
    "!pip install matplotlib\n",
    "!pip install sklearn\n",
    "!pip install google-colab\n",
    "!pip install tensorflow"
   ]
  },
  {
   "cell_type": "code",
   "execution_count": null,
   "metadata": {
    "pycharm": {
     "name": "#%%\n"
    }
   },
   "outputs": [],
   "source": [
    "import numpy as np\n",
    "import matplotlib.pyplot as ml\n",
    "from sklearn.preprocessing import scale\n",
    "from TFANN import ANNR\n",
    "from google.colab import files"
   ]
  },
  {
   "cell_type": "code",
   "execution_count": null,
   "metadata": {
    "pycharm": {
     "name": "#%%\n"
    }
   },
   "outputs": [],
   "source": [
    "files.upload()"
   ]
  },
  {
   "cell_type": "code",
   "execution_count": null,
   "metadata": {
    "pycharm": {
     "name": "#%%\n"
    }
   },
   "outputs": [],
   "source": [
    "!ls"
   ]
  },
  {
   "cell_type": "code",
   "execution_count": null,
   "metadata": {
    "pycharm": {
     "name": "#%%\n"
    }
   },
   "outputs": [],
   "source": [
    "#reads data from the file and ceates a matrix with only the dates and the prices\n",
    "stock_data = np.loadtxt('ZBH_5y.csv', delimiter=\",\", skiprows=1, usecols=(1, 4))\n",
    "#scales the data to smaller values\n",
    "stock_data=scale(stock_data)\n",
    "#gets the price and dates from the matrix\n",
    "prices = stock_data[:, 1].reshape(-1, 1)\n",
    "dates = stock_data[:, 0].reshape(-1, 1)\n",
    "#creates a plot of the data and then displays it\n",
    "mpl.plot(dates[:, 0], prices[:, 0])\n",
    "mpl.show()\n"
   ]
  },
  {
   "cell_type": "code",
   "execution_count": null,
   "metadata": {
    "pycharm": {
     "name": "#%%\n"
    }
   },
   "outputs": [],
   "source": [
    "#number of days for the hold-out period used to access progress\n",
    "holdDays = 5\n",
    "totalDays = len(dates)\n",
    "#fit the model to the data \"Learning\"\n",
    "mlpr.fit(dates[0:(totalDays-holdDays)], prices[0:(totalDays-holdDays)])"
   ]
  },
  {
   "cell_type": "code",
   "execution_count": null,
   "metadata": {
    "pycharm": {
     "name": "#%%\n"
    }
   },
   "outputs": [],
   "source": [
    "#Predict the stock price using the model\n",
    "pricePredict = mlpr.predict(dates)\n",
    "#Display the predicted reuslts agains the actual data\n",
    "mpl.plot(dates, prices)\n",
    "mpl.plot(dates, pricePredict, c='#5aa9ab')\n",
    "mpl.show()"
   ]
  },
  {
   "cell_type": "code",
   "execution_count": null,
   "metadata": {
    "pycharm": {
     "name": "#%%\n"
    }
   },
   "outputs": [],
   "source": [
    "#Number of neurons in the input, output, and hidden layers\n",
    "input2 = 1\n",
    "output2 = 1\n",
    "hidden2 = 50\n",
    "#array of layers, 3 hidden and 1 output, along with the tanh activation function\n",
    "layers = [('F', hidden2), ('AF', 'tanh'), ('F', hidden2), ('AF', 'tanh'), ('F', hidden2), ('AF', 'tanh'), ('F', output2)]\n",
    "#construct the model and dictate params\n",
    "mlpr2 = ANNR([input2], layers, batchSize = 256, maxIter = 10000, tol = 0.1, reg = 1e-4, verbose = True)"
   ]
  },
  {
   "cell_type": "code",
   "execution_count": null,
   "metadata": {
    "pycharm": {
     "name": "#%%\n"
    }
   },
   "outputs": [],
   "source": [
    "holdDays = 5\n",
    "totalDays = len(dates)\n",
    "mlpr2.fit(dates[0:(totalDays-holdDays)], prices[0:(totalDays-holdDays)])"
   ]
  },
  {
   "cell_type": "code",
   "execution_count": null,
   "metadata": {
    "pycharm": {
     "name": "#%%\n"
    }
   },
   "outputs": [],
   "source": [
    "pricePredict2 = mlpr2.predict(dates)\n",
    "mpl.plot(dates, prices)\n",
    "mpl.plot(dates, pricePredict, c='#5aa9ab')\n",
    "mpl.plot(dates, pricePredict2, c='#8B008B')\n",
    "mpl.show()"
   ]
  },
  {
   "cell_type": "code",
   "execution_count": null,
   "metadata": {
    "pycharm": {
     "name": "#%%\n"
    }
   },
   "outputs": [],
   "source": [
    "layers = [('F', hidden), ('AF', 'tanh'), ('F', hidden), ('AF', 'tanh'), ('F', hidden), ('AF', 'tanh'),('F', hidden), ('AF', 'tanh'), ('F', output)]#%%\n",
    "\n"
   ]
  }
 ],
 "metadata": {
  "kernelspec": {
   "display_name": "Python 3",
   "language": "python",
   "name": "python3"
  },
  "language_info": {
   "codemirror_mode": {
    "name": "ipython",
    "version": 3
   },
   "file_extension": ".py",
   "mimetype": "text/x-python",
   "name": "python",
   "nbconvert_exporter": "python",
   "pygments_lexer": "ipython3",
   "version": "3.8.2"
  }
 },
 "nbformat": 4,
 "nbformat_minor": 1
}
